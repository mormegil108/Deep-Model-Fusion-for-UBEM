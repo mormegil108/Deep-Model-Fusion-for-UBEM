{
 "cells": [
  {
   "cell_type": "markdown",
   "id": "0a5a89f2-90ca-4770-8ead-a58968cbefa0",
   "metadata": {},
   "source": [
    "# Generate Schedules"
   ]
  },
  {
   "cell_type": "code",
   "execution_count": 1,
   "id": "f71d6284-4330-485b-a09b-36e4ba0b40b0",
   "metadata": {},
   "outputs": [],
   "source": [
    "import numpy as np\n",
    "import pandas as pd\n",
    "import json\n",
    "import os"
   ]
  },
  {
   "cell_type": "code",
   "execution_count": 2,
   "id": "f64f34ab-bb4c-4e87-aed7-9788425781dc",
   "metadata": {},
   "outputs": [],
   "source": [
    "file_path = r\"C:\\Users\\sb013698\\Desktop\\github\\Deep Model Fusion for UBEM\\Create Input Data\"\n",
    "file_name = os.path.join(file_path, \"best_template.json\")"
   ]
  },
  {
   "cell_type": "code",
   "execution_count": 3,
   "id": "fb693bae-4026-4f48-9c6f-f36bb851796a",
   "metadata": {},
   "outputs": [],
   "source": [
    "# Read JSON\n",
    "with open(file_name, \"r\") as f:\n",
    "    schedule_raw = json.load(f)\n",
    "\n",
    "days = {day_schedule[\"$id\"]: day_schedule for day_schedule in schedule_raw[\"DaySchedules\"]}\n",
    "\n",
    "weeks = {}\n",
    "for week_schedule in schedule_raw[\"WeekSchedules\"]:\n",
    "    weeks[week_schedule[\"$id\"]] = week_schedule\n",
    "    for i, day in enumerate(week_schedule[\"Days\"]):\n",
    "        weeks[week_schedule[\"$id\"]][\"Days\"][i] = days[day[\"$ref\"]]\n",
    "\n",
    "years = {}\n",
    "for year_schedule in schedule_raw[\"YearSchedules\"]:\n",
    "    for part in year_schedule[\"Parts\"]:\n",
    "        part[\"Schedule\"] = weeks[part[\"Schedule\"][\"$ref\"]]\n",
    "\n",
    "    years[year_schedule[\"Name\"]] = year_schedule\n",
    "\n",
    "\n",
    "# Define Dates\n",
    "# Use a random year\n",
    "# Use 2018 since 1st of January is on Monday in it\n",
    "start_year = 2018\n",
    "end_year = 2018\n",
    "\n",
    "start_date = f\"{start_year}-01-01 00:00:00\"\n",
    "end_date = f\"{end_year}-12-31 23:59:59\"\n",
    "\n",
    "date_range = pd.date_range(start=start_date, end=end_date, freq='h')\n",
    "\n",
    "day_hour_list = date_range.tolist()\n",
    "\n",
    "df = pd.DataFrame(columns=[\"Date\"] + list(years.keys()), data={\"Date\": day_hour_list})\n",
    "\n",
    "df[\"Year\"] = df[\"Date\"].apply(lambda x: x.year)\n",
    "df[\"Month\"] = df[\"Date\"].apply(lambda x: x.month)\n",
    "df[\"Day\"] = df[\"Date\"].apply(lambda x: x.day)\n",
    "df[\"Hours\"] = df[\"Date\"].apply(lambda x: x.hour)\n",
    "df[\"WeekDay\"] = df[\"Date\"].apply(lambda x: x.weekday())\n",
    "\n",
    "# Assign Values\n",
    "for year_name, year_data in years.items():\n",
    "    df[year_name] = np.nan\n",
    "\n",
    "    for part in year_data[\"Parts\"]:\n",
    "        from_month = part[\"FromMonth\"]\n",
    "        from_day = part[\"FromDay\"]\n",
    "        to_month = part[\"ToMonth\"]\n",
    "        to_day = part[\"ToDay\"]\n",
    "        days = part[\"Schedule\"][\"Days\"]\n",
    "\n",
    "        start_date = pd.Timestamp(year=start_year, month=from_month, day=from_day)\n",
    "        end_date = pd.Timestamp(year=end_year, month=to_month, day=to_day)\n",
    "        date_range = pd.date_range(start=start_date, end=end_date, freq='h').tolist()\n",
    "\n",
    "        week_dates = {\n",
    "            week_day: [date for date in date_range if date.weekday() == week_day]\n",
    "            for week_day in range(7)\n",
    "        }\n",
    "\n",
    "        for week_day, dates in week_dates.items():\n",
    "            for hour in range(24):\n",
    "                matching_condition = (df[\"Date\"].isin(dates)) & (df[\"Hours\"] == hour)\n",
    "                df.loc[matching_condition, year_name] = days[week_day][\"Values\"][hour]\n",
    "\n",
    "# Fill NaN values with 0\n",
    "df = df.fillna(0)\n",
    "\n",
    "# Save schedules to an Excel file\n",
    "df.to_excel(\"schedule.xlsx\", index=False, sheet_name=\"Schedule\", engine=\"openpyxl\")"
   ]
  },
  {
   "cell_type": "code",
   "execution_count": 4,
   "id": "ccb4d96a-cd3a-4240-8846-f2e95f0620b9",
   "metadata": {},
   "outputs": [
    {
     "name": "stdout",
     "output_type": "stream",
     "text": [
      "<class 'pandas.core.frame.DataFrame'>\n",
      "RangeIndex: 8760 entries, 0 to 8759\n",
      "Data columns (total 25 columns):\n",
      " #   Column                                        Non-Null Count  Dtype         \n",
      "---  ------                                        --------------  -----         \n",
      " 0   Date                                          8760 non-null   datetime64[ns]\n",
      " 1   AlwaysOff_34                                  8760 non-null   int64         \n",
      " 2   AlwaysOff_34_1                                8760 non-null   int64         \n",
      " 3   IBB_Year_General_Nat_Vent                     8760 non-null   float64       \n",
      " 4   IBB_Year_Huzurevi_Otel_DHW                    8760 non-null   float64       \n",
      " 5   IBB_Year_Huzurevi_Otel_Equipment              8760 non-null   float64       \n",
      " 6   IBB_Year_Huzurevi_Otel_Heating                8760 non-null   int64         \n",
      " 7   IBB_Year_Huzurevi_Otel_Lighting               8760 non-null   float64       \n",
      " 8   IBB_Year_Huzurevi_Otel_Occupancy              8760 non-null   float64       \n",
      " 9   IBB_Year_Ofis_Saglik_Merkezi_Heating          8760 non-null   int64         \n",
      " 10  IBB_Year_Ofis_Sosyal_Bina_Cooling             8760 non-null   int64         \n",
      " 11  IBB_Year_Ofis_Sosyal_Bina_DHW                 8760 non-null   float64       \n",
      " 12  IBB_Year_Ofis_Sosyal_Bina_Equipment           8760 non-null   float64       \n",
      " 13  IBB_Year_Ofis_Sosyal_Bina_Heating             8760 non-null   int64         \n",
      " 14  IBB_Year_Ofis_Sosyal_Bina_Lighting_Occupancy  8760 non-null   int64         \n",
      " 15  IBB_Year_Ofis_Spor_Merkezi_Heating            8760 non-null   int64         \n",
      " 16  IBB_Year_Saglik_Merkezi_Equipment_DHW         8760 non-null   int64         \n",
      " 17  IBB_Year_Saglik_Merkezi_Lighting              8760 non-null   float64       \n",
      " 18  IBB_Year_Saglik_Merkezi_Occupancy             8760 non-null   float64       \n",
      " 19  IBB_Year_Spor_Merkezi_General                 8760 non-null   int64         \n",
      " 20  Year                                          8760 non-null   int64         \n",
      " 21  Month                                         8760 non-null   int64         \n",
      " 22  Day                                           8760 non-null   int64         \n",
      " 23  Hours                                         8760 non-null   int64         \n",
      " 24  WeekDay                                       8760 non-null   int64         \n",
      "dtypes: datetime64[ns](1), float64(9), int64(15)\n",
      "memory usage: 1.7 MB\n"
     ]
    }
   ],
   "source": [
    "# Read the schedule df and check for missing values\n",
    "schedule = pd.read_excel(\"schedule.xlsx\")\n",
    "schedule.info()"
   ]
  },
  {
   "cell_type": "code",
   "execution_count": null,
   "id": "c055e858-e3fb-47be-9916-e59c3c761943",
   "metadata": {},
   "outputs": [],
   "source": []
  },
  {
   "cell_type": "code",
   "execution_count": null,
   "id": "53312004-d105-4854-9d69-05b1eebf2a4d",
   "metadata": {},
   "outputs": [],
   "source": []
  },
  {
   "cell_type": "markdown",
   "id": "0fa33cea-402e-4f6a-922b-4213761ab316",
   "metadata": {},
   "source": [
    "# END"
   ]
  }
 ],
 "metadata": {
  "kernelspec": {
   "display_name": "Python 3 (ipykernel)",
   "language": "python",
   "name": "python3"
  },
  "language_info": {
   "codemirror_mode": {
    "name": "ipython",
    "version": 3
   },
   "file_extension": ".py",
   "mimetype": "text/x-python",
   "name": "python",
   "nbconvert_exporter": "python",
   "pygments_lexer": "ipython3",
   "version": "3.8.1"
  }
 },
 "nbformat": 4,
 "nbformat_minor": 5
}
